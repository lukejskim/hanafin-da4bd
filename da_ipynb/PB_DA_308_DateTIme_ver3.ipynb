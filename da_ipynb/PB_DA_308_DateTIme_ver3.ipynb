{
 "cells": [
  {
   "cell_type": "markdown",
   "metadata": {},
   "source": [
    "# Industry 4.0 의 중심, BigData"
   ]
  },
  {
   "cell_type": "markdown",
   "metadata": {},
   "source": [
    "<div align='right'><font size=2 color='gray'>Data Processing Based Python @ <font color='blue'><a href='https://www.facebook.com/jskim.kr'>FB / jskim.kr</a></font>, [김진수](bigpycraft@gmail.com)</font></div>\n",
    "<hr>"
   ]
  },
  {
   "cell_type": "markdown",
   "metadata": {},
   "source": [
    "## Date, Time "
   ]
  },
  {
   "cell_type": "markdown",
   "metadata": {},
   "source": [
    "### <font color='brown'>시간 정보</font>"
   ]
  },
  {
   "cell_type": "code",
   "execution_count": 1,
   "metadata": {
    "collapsed": true
   },
   "outputs": [],
   "source": [
    "# 현재 시간을 년-월-일 시:분:초로 출력하기(localtime, strftime)\n",
    "from time import localtime, strftime\n",
    "\n",
    "def writelog(logfile, log):\n",
    "    time_stamp = strftime('%Y-%m-%d %X\\t', localtime())\n",
    "    log = time_stamp + log + '\\n'\n",
    "\n",
    "    with open(logfile, 'a') as f:\n",
    "        f.writelines(log)\n",
    "\n",
    "logfile = 'test.log'\n",
    "writelog(logfile, '첫번째 로깅 문장입니다.')\n"
   ]
  },
  {
   "cell_type": "code",
   "execution_count": 2,
   "metadata": {},
   "outputs": [
    {
     "name": "stderr",
     "output_type": "stream",
     "text": [
      "'cat'은(는) 내부 또는 외부 명령, 실행할 수 있는 프로그램, 또는\n",
      "배치 파일이 아닙니다.\n"
     ]
    }
   ],
   "source": [
    "! cat test.log"
   ]
  },
  {
   "cell_type": "code",
   "execution_count": 3,
   "metadata": {},
   "outputs": [
    {
     "name": "stdout",
     "output_type": "stream",
     "text": [
      "오늘은 [2018-01-01]이후 [245]일째 되는 날입니다.\n"
     ]
    }
   ],
   "source": [
    "# 올해 경과된 날짜수 계산하기(localtime)\n",
    "from time import localtime\n",
    "\n",
    "t = localtime()\n",
    "# print(t)\n",
    "\n",
    "start_day = '%d-01-01' % (t.tm_year)\n",
    "elapsed_day = t.tm_yday\n",
    "\n",
    "print('오늘은 [%s]이후 [%d]일째 되는 날입니다.' %(start_day, elapsed_day))\n"
   ]
  },
  {
   "cell_type": "code",
   "execution_count": 4,
   "metadata": {},
   "outputs": [
    {
     "data": {
      "text/plain": [
       "'2018-9-2'"
      ]
     },
     "execution_count": 4,
     "metadata": {},
     "output_type": "execute_result"
    }
   ],
   "source": [
    "today = '{yy}-{mm}-{dd}'.format(\n",
    "    yy = t.tm_year,\n",
    "    mm = t.tm_mon,\n",
    "    dd = t.tm_mday,\n",
    ")\n",
    "today"
   ]
  },
  {
   "cell_type": "code",
   "execution_count": 5,
   "metadata": {},
   "outputs": [
    {
     "data": {
      "text/plain": [
       "'2014-4-16'"
      ]
     },
     "execution_count": 5,
     "metadata": {},
     "output_type": "execute_result"
    }
   ],
   "source": [
    "mem_day = '{yy}-{mm}-{dd}'.format(\n",
    "    yy = 2014,\n",
    "    mm = 4,\n",
    "    dd = 16\n",
    ")\n",
    "mem_day"
   ]
  },
  {
   "cell_type": "code",
   "execution_count": 6,
   "metadata": {},
   "outputs": [
    {
     "data": {
      "text/plain": [
       "time.struct_time"
      ]
     },
     "execution_count": 6,
     "metadata": {},
     "output_type": "execute_result"
    }
   ],
   "source": [
    "type(t)"
   ]
  },
  {
   "cell_type": "code",
   "execution_count": 7,
   "metadata": {},
   "outputs": [
    {
     "name": "stdout",
     "output_type": "stream",
     "text": [
      "[2018-9-2] 오늘은 [일요일]입니다.\n"
     ]
    }
   ],
   "source": [
    "# 오늘의 요일 계산하기(localtime)\n",
    "from time import localtime\n",
    "\n",
    "weekdays = ['월요일', '화요일', '수요일', '목요일', '금요일', '토요일', '일요일']\n",
    "\n",
    "t = localtime()\n",
    "today = '%d-%d-%d' %(t.tm_year, t.tm_mon, t.tm_mday)\n",
    "week = weekdays[t.tm_wday]\n",
    "\n",
    "print('[%s] 오늘은 [%s]입니다.' %(today, week))\n"
   ]
  },
  {
   "cell_type": "code",
   "execution_count": 8,
   "metadata": {},
   "outputs": [
    {
     "name": "stdout",
     "output_type": "stream",
     "text": [
      "1에서 백만까지 더합니다.\n",
      "1에서 백만까지 더한 결과: 499999500000\n",
      "총 계산 시간: 0:00:00.139105\n",
      "총 계산 시간: 139ms\n"
     ]
    }
   ],
   "source": [
    "# 프로그램 실행 시간 계산하기(datetimenow)\n",
    "from datetime import datetime, timedelta\n",
    "\n",
    "start = datetime.now()\n",
    "print('1에서 백만까지 더합니다.')\n",
    "\n",
    "ret = 0\n",
    "for i in range(1000000):\n",
    "    ret += i\n",
    "\n",
    "print('1에서 백만까지 더한 결과: %d' %ret)\n",
    "end = datetime.now()\n",
    "\n",
    "elapsed = end - start\n",
    "print('총 계산 시간: ', end='');   print(elapsed)\n",
    "elapsed_ms = int(elapsed.total_seconds()*1000)\n",
    "print('총 계산 시간: %dms' %elapsed_ms)\n"
   ]
  },
  {
   "cell_type": "code",
   "execution_count": 9,
   "metadata": {},
   "outputs": [
    {
     "data": {
      "text/plain": [
       "datetime.datetime"
      ]
     },
     "execution_count": 9,
     "metadata": {},
     "output_type": "execute_result"
    }
   ],
   "source": [
    "type(start)"
   ]
  },
  {
   "cell_type": "code",
   "execution_count": 10,
   "metadata": {},
   "outputs": [
    {
     "name": "stdout",
     "output_type": "stream",
     "text": [
      "2018-09-02 06:00:38.458011\n",
      "2018-09-02\n",
      "06:00:38\n",
      "2018-09-02 06:00:38\n"
     ]
    }
   ],
   "source": [
    "from datetime import datetime\n",
    " \n",
    "now = datetime.now()\n",
    "print(now)          # yyyy-MM-dd hh:mm:ss\n",
    " \n",
    "nowDate = now.strftime('%Y-%m-%d')\n",
    "print(nowDate)      # yyyy-MM-dd \n",
    " \n",
    "nowTime = now.strftime('%H:%M:%S')\n",
    "print(nowTime)      # 1hh:mm:ss\n",
    " \n",
    "nowDatetime = now.strftime('%Y-%m-%d %H:%M:%S')\n",
    "print(nowDatetime)  # yyyy-MM-dd hh:mm:ss"
   ]
  },
  {
   "cell_type": "code",
   "execution_count": 11,
   "metadata": {},
   "outputs": [
    {
     "data": {
      "text/plain": [
       "datetime.datetime"
      ]
     },
     "execution_count": 11,
     "metadata": {},
     "output_type": "execute_result"
    }
   ],
   "source": [
    "type(now)"
   ]
  },
  {
   "cell_type": "code",
   "execution_count": 12,
   "metadata": {},
   "outputs": [
    {
     "data": {
      "text/plain": [
       "datetime.datetime(2002, 3, 2, 0, 0)"
      ]
     },
     "execution_count": 12,
     "metadata": {},
     "output_type": "execute_result"
    }
   ],
   "source": [
    "m_day = datetime(2002, 3, 2)\n",
    "m_day"
   ]
  },
  {
   "cell_type": "code",
   "execution_count": 13,
   "metadata": {},
   "outputs": [
    {
     "data": {
      "text/plain": [
       "datetime.datetime(2018, 9, 2, 6, 0, 38, 503040)"
      ]
     },
     "execution_count": 13,
     "metadata": {},
     "output_type": "execute_result"
    }
   ],
   "source": [
    "today = datetime.now()\n",
    "today"
   ]
  },
  {
   "cell_type": "code",
   "execution_count": 14,
   "metadata": {},
   "outputs": [
    {
     "data": {
      "text/plain": [
       "datetime.timedelta(6028, 21638, 503040)"
      ]
     },
     "execution_count": 14,
     "metadata": {},
     "output_type": "execute_result"
    }
   ],
   "source": [
    "elapsed = today - m_day\n",
    "elapsed"
   ]
  },
  {
   "cell_type": "code",
   "execution_count": 15,
   "metadata": {},
   "outputs": [
    {
     "data": {
      "text/plain": [
       "(6028, 21638, 503040)"
      ]
     },
     "execution_count": 15,
     "metadata": {},
     "output_type": "execute_result"
    }
   ],
   "source": [
    "elapsed.days, elapsed.seconds, elapsed.microseconds"
   ]
  },
  {
   "cell_type": "code",
   "execution_count": 16,
   "metadata": {},
   "outputs": [
    {
     "data": {
      "text/plain": [
       "'오늘은 기념일로부터 6028일 경과되었고, 월수는 200개월, 년수는 16년이 지났군요!!'"
      ]
     },
     "execution_count": 16,
     "metadata": {},
     "output_type": "execute_result"
    }
   ],
   "source": [
    "elapsed_day   = elapsed.days\n",
    "elapsed_month = elapsed_day / 30\n",
    "elapsed_year  = elapsed_day / 365\n",
    "\n",
    "'오늘은 기념일로부터 {e_dd}일 경과되었고, 월수는 {e_mm}개월, 년수는 {e_yy}년이 지났군요!!'.format(\n",
    "    e_dd = elapsed_day,\n",
    "    e_mm = int(elapsed_month),\n",
    "    e_yy = int(elapsed_year)\n",
    ")"
   ]
  },
  {
   "cell_type": "code",
   "execution_count": 17,
   "metadata": {
    "collapsed": true
   },
   "outputs": [],
   "source": [
    "from datetime import datetime\n",
    "\n",
    "def getMemorialDay(year, month, day, mem_day='기념일', is_msg=True):\n",
    "    m_day = datetime(year, month, day)\n",
    "    today = datetime.now()\n",
    "    elapsed = today - m_day\n",
    "\n",
    "    elapsed_day   = elapsed.days\n",
    "    elapsed_month = int(elapsed_day / 30)\n",
    "    elapsed_year  = int(elapsed_day /365)\n",
    "\n",
    "    msg = '오늘은 \"{mday}\"로부터 {e_dd}일 경과되었고, 달 수로는 {e_mm}개월째, 연 수로는 {e_yy}년째 되었습니다!!'.format(\n",
    "        mday = mem_day,\n",
    "        e_dd = elapsed_day,\n",
    "        e_mm = elapsed_month,\n",
    "        e_yy = elapsed_year\n",
    "    )\n",
    "    if is_msg: print(msg)\n",
    "        \n",
    "    return elapsed_year, elapsed_month, elapsed_day"
   ]
  },
  {
   "cell_type": "code",
   "execution_count": 18,
   "metadata": {},
   "outputs": [
    {
     "name": "stdout",
     "output_type": "stream",
     "text": [
      "오늘은 \"세월호침몰사고일\"로부터 1600일 경과되었고, 달 수로는 53개월째, 연 수로는 4년째 되었습니다!!\n"
     ]
    },
    {
     "data": {
      "text/plain": [
       "(4, 53, 1600)"
      ]
     },
     "execution_count": 18,
     "metadata": {},
     "output_type": "execute_result"
    }
   ],
   "source": [
    "getMemorialDay(2014,4,16, '세월호침몰사고일')"
   ]
  },
  {
   "cell_type": "code",
   "execution_count": 19,
   "metadata": {},
   "outputs": [
    {
     "data": {
      "text/plain": [
       "'크리스마스까지는 114일 남았습니다!!'"
      ]
     },
     "execution_count": 19,
     "metadata": {},
     "output_type": "execute_result"
    }
   ],
   "source": [
    "_y, _m, elapsed_day = getMemorialDay(2018, 12, 25, '크리스마스', False)\n",
    "'크리스마스까지는 %d일 남았습니다!!' % -elapsed_day\n"
   ]
  },
  {
   "cell_type": "code",
   "execution_count": 20,
   "metadata": {},
   "outputs": [
    {
     "name": "stdout",
     "output_type": "stream",
     "text": [
      "아무 숫자를 입력하세요: 1234567890\n",
      "1,234,567,890\n"
     ]
    }
   ],
   "source": [
    "# 주어진 숫자를 천 단위로 구분하기\n",
    "num = input('아무 숫자를 입력하세요: ')\n",
    "\n",
    "if num.isdigit():\n",
    "    num = num[::-1]\n",
    "    ret = ''\n",
    "    for i, c in enumerate(num):\n",
    "        i += 1\n",
    "        if i != len(num) and i%3 == 0:\n",
    "            ret += (c + ',')\n",
    "        else:\n",
    "            ret += c\n",
    "    ret = ret[::-1]\n",
    "    print(ret)\n",
    "else:\n",
    "    print('입력한 내용 [%s]: 숫자가 아닙니다.' %num)"
   ]
  },
  {
   "cell_type": "markdown",
   "metadata": {},
   "source": [
    "<hr>\n",
    "<marquee><font size=3 color='brown'>The BigpyCraft find the information to design valuable society with Technology & Craft.</font></marquee>\n",
    "<div align='right'><font size=2 color='gray'> &lt; The End &gt; </font></div>"
   ]
  }
 ],
 "metadata": {
  "kernelspec": {
   "display_name": "Python 3",
   "language": "python",
   "name": "python3"
  },
  "language_info": {
   "codemirror_mode": {
    "name": "ipython",
    "version": 3
   },
   "file_extension": ".py",
   "mimetype": "text/x-python",
   "name": "python",
   "nbconvert_exporter": "python",
   "pygments_lexer": "ipython3",
   "version": "3.6.3"
  }
 },
 "nbformat": 4,
 "nbformat_minor": 2
}
