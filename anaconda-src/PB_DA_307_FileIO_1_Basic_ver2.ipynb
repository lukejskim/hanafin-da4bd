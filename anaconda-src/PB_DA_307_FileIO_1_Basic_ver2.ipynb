{
 "cells": [
  {
   "cell_type": "markdown",
   "metadata": {},
   "source": [
    "# Industry 4.0 의 중심, BigData"
   ]
  },
  {
   "cell_type": "markdown",
   "metadata": {},
   "source": [
    "<div align='right'><font size=2 color='gray'>Data Processing Based Python @ <font color='blue'><a href='https://www.facebook.com/jskim.kr'>FB / jskim.kr</a></font>, [김진수](bigpycraft@gmail.com)</font></div>\n",
    "<hr>"
   ]
  },
  {
   "cell_type": "markdown",
   "metadata": {},
   "source": [
    "## <font color='brown'>파일 입출력, File I/O</font>"
   ]
  },
  {
   "cell_type": "code",
   "execution_count": 1,
   "metadata": {
    "collapsed": true
   },
   "outputs": [],
   "source": [
    "fp = open('./data/hello.txt', 'r')"
   ]
  },
  {
   "cell_type": "code",
   "execution_count": 2,
   "metadata": {},
   "outputs": [
    {
     "data": {
      "text/plain": [
       "'Hello, Jupyter !!'"
      ]
     },
     "execution_count": 2,
     "metadata": {},
     "output_type": "execute_result"
    }
   ],
   "source": [
    "fp.read()"
   ]
  },
  {
   "cell_type": "code",
   "execution_count": 3,
   "metadata": {
    "collapsed": true
   },
   "outputs": [],
   "source": [
    "fp.close()"
   ]
  },
  {
   "cell_type": "code",
   "execution_count": 4,
   "metadata": {},
   "outputs": [
    {
     "ename": "ValueError",
     "evalue": "I/O operation on closed file.",
     "output_type": "error",
     "traceback": [
      "\u001b[0;31m---------------------------------------------------------------------------\u001b[0m",
      "\u001b[0;31mValueError\u001b[0m                                Traceback (most recent call last)",
      "\u001b[0;32m<ipython-input-4-5b707e20d623>\u001b[0m in \u001b[0;36m<module>\u001b[0;34m()\u001b[0m\n\u001b[0;32m----> 1\u001b[0;31m \u001b[0mfp\u001b[0m\u001b[0;34m.\u001b[0m\u001b[0mread\u001b[0m\u001b[0;34m(\u001b[0m\u001b[0;34m)\u001b[0m\u001b[0;34m\u001b[0m\u001b[0m\n\u001b[0m",
      "\u001b[0;31mValueError\u001b[0m: I/O operation on closed file."
     ]
    }
   ],
   "source": [
    "fp.read()"
   ]
  },
  {
   "cell_type": "code",
   "execution_count": 5,
   "metadata": {},
   "outputs": [
    {
     "name": "stdout",
     "output_type": "stream",
     "text": [
      "Hello, Jupyter !!\n"
     ]
    }
   ],
   "source": [
    "with open('./data/hello.txt', 'r') as fp:\n",
    "    data = fp.read()\n",
    "    print(data)"
   ]
  },
  {
   "cell_type": "code",
   "execution_count": 6,
   "metadata": {},
   "outputs": [
    {
     "data": {
      "text/plain": [
       "'Hello, Jupyter !!'"
      ]
     },
     "execution_count": 6,
     "metadata": {},
     "output_type": "execute_result"
    }
   ],
   "source": [
    "data"
   ]
  },
  {
   "cell_type": "code",
   "execution_count": 7,
   "metadata": {
    "collapsed": true
   },
   "outputs": [],
   "source": [
    "with open('./data/subject.txt', 'w') as fp:\n",
    "    data = '파이썬을 이용한 빅데이터 분석!!'\n",
    "    fp.write(data)"
   ]
  },
  {
   "cell_type": "code",
   "execution_count": 8,
   "metadata": {},
   "outputs": [
    {
     "name": "stdout",
     "output_type": "stream",
     "text": [
      "파이썬을 이용한 빅데이터 분석!!\n"
     ]
    }
   ],
   "source": [
    "with open('./data/subject.txt', 'r') as fp:\n",
    "    data = fp.read()\n",
    "    print(data)"
   ]
  },
  {
   "cell_type": "raw",
   "metadata": {},
   "source": [
    "<!--\n",
    "# students.csv\n",
    "김태희,서울대,thkim@gmail.com\n",
    "신민아,성균관대,sma@gmial.com\n",
    "전지현,중앙대,jhjeon@gmail.com\n",
    "이영애,숭실대,janggumi@gamil.com\n",
    "//-->"
   ]
  },
  {
   "cell_type": "markdown",
   "metadata": {},
   "source": [
    "> <font color='blue'>FileName : students.csv</font>\n",
    "- 김태희,서울대,thkim@gmail.com\n",
    "- 신민아,성균관대,sma@gmial.com\n",
    "- 전지현,중앙대,jhjeon@gmail.com\n",
    "- 이영애,숭실대,janggumi@gamil.com"
   ]
  },
  {
   "cell_type": "code",
   "execution_count": 9,
   "metadata": {
    "collapsed": true
   },
   "outputs": [],
   "source": [
    "def read_csv(filepath):\n",
    "    \n",
    "    fp = open(filepath, 'r', encoding='utf-8')\n",
    "    data = fp.read()\n",
    "    fp.close()\n",
    "    \n",
    "    # return dataL\n",
    "    elements = []\n",
    "    \n",
    "    rows = data.split(\"\\n\")\n",
    "    # print(rows)\n",
    "    for row in rows:        \n",
    "        \n",
    "        fields = row.split(\",\")\n",
    "        # print(fields)\n",
    "        \n",
    "        element = {   \n",
    "            \"name\"   : fields[0],\n",
    "            \"school\" : fields[1],\n",
    "            \"email\"  : fields[2],\n",
    "        }\n",
    "        elements.append(element)\n",
    "    return elements"
   ]
  },
  {
   "cell_type": "code",
   "execution_count": 10,
   "metadata": {},
   "outputs": [
    {
     "data": {
      "text/plain": [
       "[{'email': 'thkim@gmail.com', 'name': '김태희', 'school': '서울대'},\n",
       " {'email': 'sma@gmial.com', 'name': '신민아', 'school': '성균관대'},\n",
       " {'email': 'jhjeon@gmail.com', 'name': '전지현', 'school': '중앙대'},\n",
       " {'email': 'janggumi@gamil.com', 'name': '이영애', 'school': '숭실대'}]"
      ]
     },
     "execution_count": 10,
     "metadata": {},
     "output_type": "execute_result"
    }
   ],
   "source": [
    "filepath = 'data/students.csv'\n",
    "read_csv(filepath)"
   ]
  },
  {
   "cell_type": "raw",
   "metadata": {},
   "source": [
    "<!--\n",
    "# company.csv\n",
    "랭킹, 회사이름, 영문명, 창업자\n",
    "1, 애플, Apple, 스티브잡스\n",
    "2, 구글, Google, 세르게이브린 & 레리페이지\n",
    "3, 마이크로소프트, Microsoft, 빌게이츠 & 폴앨런\n",
    "4, 페이스북, Facebook, 마크쥬크버그\n",
    "5, 에어비엔비, Airbnb, 브라이언체크키 & 조게비어\n",
    "//-->"
   ]
  },
  {
   "cell_type": "markdown",
   "metadata": {},
   "source": [
    "> <font color='blue'>FileName : company.csv</font>\n",
    "<br>\n",
    "<br> 랭킹, 회사이름, 영문명, 창업자\n",
    "<br> 1, 애플, Apple, 스티브잡스\n",
    "<br> 2, 구글, Google, 세르게이브린 & 레리페이지\n",
    "<br> 3, 마이크로소프트, Microsoft, 빌게이츠 & 폴앨런\n",
    "<br> 4, 페이스북, Facebook, 마크쥬크버그\n",
    "<br> 5, 에어비엔비, Airbnb, 브라이언체크키 & 조게비어"
   ]
  },
  {
   "cell_type": "code",
   "execution_count": 11,
   "metadata": {
    "collapsed": true
   },
   "outputs": [],
   "source": [
    "def read_csv(filepath):         # 어떤 헤더가 있는 CSV 파일이든지 읽을 수 있는 함수\n",
    "                                # \",\" 말고 다른 어떤 seperator 가 들어가더라도, \n",
    "                                # CSV 읽을 수 있는 함수\n",
    "                                # \"\\t\", \"::\", \"|\" 이 모든 sep 에 대한 함수!\n",
    "    fp = open(filepath, 'r', encoding='utf-8')\n",
    "    data = fp.read()\n",
    "    fp.close()\n",
    "    \n",
    "    elements = []\n",
    "    \n",
    "    rows = data.split(\"\\n\")\n",
    "    columns = rows[0].split(\",\")    # [\"랭킹\", \"회사이름\", \"영문명\", \"창업자\"]\n",
    "    columns = [key.replace(' ','') for key in columns]\n",
    "    print(columns)\n",
    "    for row in rows[1:]:\n",
    "        fields = row.split(\",\")\n",
    "        element = {}\n",
    "        \n",
    "        for idx in range(len(columns)):   # index 의 값으로 비교해야 한다.\n",
    "            column = columns[idx]\n",
    "            field = fields[idx]\n",
    "            element[column] = field\n",
    "        \n",
    "        elements.append(element)\n",
    "    return elements"
   ]
  },
  {
   "cell_type": "code",
   "execution_count": 12,
   "metadata": {},
   "outputs": [
    {
     "name": "stdout",
     "output_type": "stream",
     "text": [
      "['랭킹', '회사이름', '영문명', '창업자']\n"
     ]
    },
    {
     "data": {
      "text/plain": [
       "[{'랭킹': '1', '영문명': ' Apple', '창업자': ' 스티브잡스 ', '회사이름': ' 애플'},\n",
       " {'랭킹': '2', '영문명': ' Google', '창업자': ' 세르게이브린 & 레리페이지 ', '회사이름': ' 구글'},\n",
       " {'랭킹': '3', '영문명': ' Microsoft', '창업자': ' 빌게이츠 & 폴앨런 ', '회사이름': ' 마이크로소프트'},\n",
       " {'랭킹': '4', '영문명': ' Facebook', '창업자': ' 마크쥬크버그 ', '회사이름': ' 페이스북'},\n",
       " {'랭킹': '5', '영문명': ' Airbnb', '창업자': ' 브라이언체크키 & 조게비어', '회사이름': ' 에어비엔비'}]"
      ]
     },
     "execution_count": 12,
     "metadata": {},
     "output_type": "execute_result"
    }
   ],
   "source": [
    "filepath = 'data/company.csv'\n",
    "read_csv(filepath)"
   ]
  },
  {
   "cell_type": "markdown",
   "metadata": {
    "collapsed": true
   },
   "source": [
    "<hr>\n",
    "<marquee><font size=3 color='brown'>The BigpyCraft find the information to design valuable society with Technology & Craft.</font></marquee>\n",
    "<div align='right'><font size=2 color='gray'> &lt; The End &gt; </font></div>"
   ]
  }
 ],
 "metadata": {
  "kernelspec": {
   "display_name": "Python 3",
   "language": "python",
   "name": "python3"
  },
  "language_info": {
   "codemirror_mode": {
    "name": "ipython",
    "version": 3
   },
   "file_extension": ".py",
   "mimetype": "text/x-python",
   "name": "python",
   "nbconvert_exporter": "python",
   "pygments_lexer": "ipython3",
   "version": "3.6.3"
  }
 },
 "nbformat": 4,
 "nbformat_minor": 2
}
